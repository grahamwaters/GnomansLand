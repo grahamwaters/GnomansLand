{
 "nbformat": 4,
 "nbformat_minor": 2,
 "metadata": {
  "colab": {
   "name": "Colab-UnityEnvironment-1-Run.ipynb",
   "private_outputs": true,
   "provenance": [],
   "collapsed_sections": [],
   "toc_visible": true
  },
  "kernelspec": {
   "name": "python3",
   "display_name": "Python 3.9.12 64-bit ('GnomansLand': conda)"
  },
  "pycharm": {
   "stem_cell": {
    "cell_type": "raw",
    "source": [],
    "metadata": {
     "collapsed": false
    }
   }
  },
  "language_info": {
   "name": "python",
   "version": "3.9.12",
   "mimetype": "text/x-python",
   "codemirror_mode": {
    "name": "ipython",
    "version": 3
   },
   "pygments_lexer": "ipython3",
   "nbconvert_exporter": "python",
   "file_extension": ".py"
  },
  "interpreter": {
   "hash": "1f4466f00c53a53118fe0e39c1526a34f8b55acb78dd8153d5e02751431e444a"
  }
 },
 "cells": [
  {
   "cell_type": "markdown",
   "source": [
    "# ML-Agents Open a UnityEnvironment\n",
    "<img src=\"https://github.com/Unity-Technologies/ml-agents/blob/release_19_docs/docs/images/image-banner.png?raw=true\" align=\"middle\" width=\"435\"/>"
   ],
   "metadata": {
    "id": "pbVXrmEsLXDt"
   }
  },
  {
   "cell_type": "markdown",
   "source": [
    "## Setup"
   ],
   "metadata": {
    "id": "WNKTwHU3d2-l"
   }
  },
  {
   "cell_type": "code",
   "execution_count": 1,
   "source": [
    "#@title Install Rendering Dependencies { display-mode: \"form\" }\n",
    "#@markdown (You only need to run this code when using Colab's hosted runtime)\n",
    "\n",
    "import os\n",
    "from IPython.display import HTML, display\n",
    "\n",
    "def progress(value, max=100):\n",
    "    return HTML(\"\"\"\n",
    "        <progress\n",
    "            value='{value}'\n",
    "            max='{max}',\n",
    "            style='width: 100%'\n",
    "        >\n",
    "            {value}\n",
    "        </progress>\n",
    "    \"\"\".format(value=value, max=max))\n",
    "\n",
    "pro_bar = display(progress(0, 100), display_id=True)\n",
    "\n",
    "try:\n",
    "  import google.colab\n",
    "  INSTALL_XVFB = True\n",
    "except ImportError:\n",
    "  INSTALL_XVFB = 'COLAB_ALWAYS_INSTALL_XVFB' in os.environ\n",
    "\n",
    "if INSTALL_XVFB:\n",
    "  with open('frame-buffer', 'w') as writefile:\n",
    "    writefile.write(\"\"\"#taken from https://gist.github.com/jterrace/2911875\n",
    "XVFB=/usr/bin/Xvfb\n",
    "XVFBARGS=\":1 -screen 0 1024x768x24 -ac +extension GLX +render -noreset\"\n",
    "PIDFILE=./frame-buffer.pid\n",
    "case \"$1\" in\n",
    "  start)\n",
    "    echo -n \"Starting virtual X frame buffer: Xvfb\"\n",
    "    /sbin/start-stop-daemon --start --quiet --pidfile $PIDFILE --make-pidfile --background --exec $XVFB -- $XVFBARGS\n",
    "    echo \".\"\n",
    "    ;;\n",
    "  stop)\n",
    "    echo -n \"Stopping virtual X frame buffer: Xvfb\"\n",
    "    /sbin/start-stop-daemon --stop --quiet --pidfile $PIDFILE\n",
    "    rm $PIDFILE\n",
    "    echo \".\"\n",
    "    ;;\n",
    "  restart)\n",
    "    $0 stop\n",
    "    $0 start\n",
    "    ;;\n",
    "  *)\n",
    "        echo \"Usage: /etc/init.d/xvfb {start|stop|restart}\"\n",
    "        exit 1\n",
    "esac\n",
    "exit 0\n",
    "    \"\"\")\n",
    "  pro_bar.update(progress(5, 100))\n",
    "  !apt-get install daemon >/dev/null 2>&1\n",
    "  pro_bar.update(progress(10, 100))\n",
    "  !apt-get install wget >/dev/null 2>&1\n",
    "  pro_bar.update(progress(20, 100))\n",
    "  !wget http://security.ubuntu.com/ubuntu/pool/main/libx/libxfont/libxfont1_1.5.1-1ubuntu0.16.04.4_amd64.deb >/dev/null 2>&1\n",
    "  pro_bar.update(progress(30, 100))\n",
    "  !wget --output-document xvfb.deb http://security.ubuntu.com/ubuntu/pool/universe/x/xorg-server/xvfb_1.18.4-0ubuntu0.12_amd64.deb >/dev/null 2>&1\n",
    "  pro_bar.update(progress(40, 100))\n",
    "  !dpkg -i libxfont1_1.5.1-1ubuntu0.16.04.4_amd64.deb >/dev/null 2>&1\n",
    "  pro_bar.update(progress(50, 100))\n",
    "  !dpkg -i xvfb.deb >/dev/null 2>&1\n",
    "  pro_bar.update(progress(70, 100))\n",
    "  !rm libxfont1_1.5.1-1ubuntu0.16.04.4_amd64.deb\n",
    "  pro_bar.update(progress(80, 100))\n",
    "  !rm xvfb.deb\n",
    "  pro_bar.update(progress(90, 100))\n",
    "  !bash frame-buffer start\n",
    "  os.environ[\"DISPLAY\"] = \":1\"\n",
    "pro_bar.update(progress(100, 100))"
   ],
   "outputs": [
    {
     "output_type": "display_data",
     "data": {
      "text/plain": [
       "<IPython.core.display.HTML object>"
      ],
      "text/html": [
       "\n",
       "        <progress\n",
       "            value='100'\n",
       "            max='100',\n",
       "            style='width: 100%'\n",
       "        >\n",
       "            100\n",
       "        </progress>\n",
       "    "
      ]
     },
     "metadata": {}
    }
   ],
   "metadata": {
    "id": "htb-p1hSNX7D"
   }
  },
  {
   "cell_type": "markdown",
   "source": [
    "### Installing ml-agents"
   ],
   "metadata": {
    "id": "Pzj7wgapAcDs"
   }
  },
  {
   "cell_type": "code",
   "execution_count": 2,
   "source": [
    "try:\n",
    "  import mlagents\n",
    "  print(\"ml-agents already installed\")\n",
    "except ImportError:\n",
    "  !python -m pip install -q mlagents==0.28.0\n",
    "  print(\"Installed ml-agents\")"
   ],
   "outputs": [
    {
     "output_type": "stream",
     "name": "stdout",
     "text": [
      "ml-agents already installed\n"
     ]
    }
   ],
   "metadata": {
    "id": "N8yfQqkbebQ5"
   }
  },
  {
   "cell_type": "markdown",
   "source": [
    "## Run the Environment"
   ],
   "metadata": {
    "id": "_u74YhSmW6gD"
   }
  },
  {
   "cell_type": "code",
   "execution_count": 3,
   "source": [
    "#@title Select Environment { display-mode: \"form\" }\n",
    "env_id = \"GridWorld\" #@param ['Basic', '3DBall', '3DBallHard', 'GridWorld', 'Hallway', 'VisualHallway', 'CrawlerDynamicTarget', 'CrawlerStaticTarget', 'Bouncer', 'SoccerTwos', 'PushBlock', 'VisualPushBlock', 'WallJump', 'Tennis', 'Reacher', 'Pyramids', 'VisualPyramids', 'Walker', 'FoodCollector', 'VisualFoodCollector', 'StrikersVsGoalie', 'WormStaticTarget', 'WormDynamicTarget']\n"
   ],
   "outputs": [],
   "metadata": {
    "id": "DpZPbRvRuLZv"
   }
  },
  {
   "cell_type": "markdown",
   "source": [
    "### Start Environment from the registry"
   ],
   "metadata": {
    "id": "P-r_cB2rqp5x"
   }
  },
  {
   "cell_type": "code",
   "execution_count": 4,
   "source": [
    "# -----------------\n",
    "# This code is used to close an env that might not have been closed before\n",
    "try:\n",
    "  env.close()\n",
    "except:\n",
    "  pass\n",
    "# -----------------\n",
    "\n",
    "from mlagents_envs.registry import default_registry\n",
    "\n",
    "env = default_registry[env_id].make()"
   ],
   "outputs": [
    {
     "output_type": "stream",
     "name": "stdout",
     "text": []
    },
    {
     "output_type": "stream",
     "name": "stderr",
     "text": [
      "IOPub message rate exceeded.\n",
      "The notebook server will temporarily stop sending output\n",
      "to the client in order to avoid crashing it.\n",
      "To change this limit, set the config variable\n",
      "`--NotebookApp.iopub_msg_rate_limit`.\n",
      "\n",
      "Current values:\n",
      "NotebookApp.iopub_msg_rate_limit=1000.0 (msgs/sec)\n",
      "NotebookApp.rate_limit_window=3.0 (secs)\n",
      "\n"
     ]
    },
    {
     "output_type": "stream",
     "name": "stdout",
     "text": []
    },
    {
     "output_type": "stream",
     "name": "stderr",
     "text": [
      "IOPub message rate exceeded.\n",
      "The notebook server will temporarily stop sending output\n",
      "to the client in order to avoid crashing it.\n",
      "To change this limit, set the config variable\n",
      "`--NotebookApp.iopub_msg_rate_limit`.\n",
      "\n",
      "Current values:\n",
      "NotebookApp.iopub_msg_rate_limit=1000.0 (msgs/sec)\n",
      "NotebookApp.rate_limit_window=3.0 (secs)\n",
      "\n"
     ]
    },
    {
     "output_type": "stream",
     "name": "stdout",
     "text": [
      "\n",
      "\n"
     ]
    },
    {
     "output_type": "stream",
     "name": "stderr",
     "text": [
      "E0514 16:05:40.721317000 8632528384 fork_posix.cc:76]                  Other threads are currently calling into gRPC, skipping fork() handlers\n"
     ]
    },
    {
     "output_type": "stream",
     "name": "stdout",
     "text": [
      "CrashReporter: initialized\n",
      "Mono path[0] = '/var/folders/34/d1tlq3k91hb0lj6x90xpzb4r0000gn/T/ml-agents-binaries/binaries/GridWorld-cf2ffd79e1aa7546a02639c71c14636c/Startup/Startup.app/Contents/Resources/Data/Managed'\n",
      "Mono config path = '/var/folders/34/d1tlq3k91hb0lj6x90xpzb4r0000gn/T/ml-agents-binaries/binaries/GridWorld-cf2ffd79e1aa7546a02639c71c14636c/Startup/Startup.app/Contents/MonoBleedingEdge/etc'\n",
      "PlayerConnection initialized from /var/folders/34/d1tlq3k91hb0lj6x90xpzb4r0000gn/T/ml-agents-binaries/binaries/GridWorld-cf2ffd79e1aa7546a02639c71c14636c/Startup/Startup.app/Contents/Resources/Data (debug = 0)\n",
      "PlayerConnection initialized network socket : 0.0.0.0 55007\n",
      "Multi-casting \"[IP] 192.168.68.112 [Port] 55007 [Flags] 2 [Guid] 53786523 [EditorId] 3979060353 [Version] 1048832 [Id] OSXPlayer(iMac-3.local) [Debug] 0 [PackageName] OSXPlayer\" to [225.0.0.222:54997]...\n",
      "Started listening to [0.0.0.0:55007]\n",
      "PlayerConnection already initialized - listening to [0.0.0.0:55007]\n"
     ]
    }
   ],
   "metadata": {
    "id": "YSf-WhxbqtLw"
   }
  },
  {
   "cell_type": "markdown",
   "source": [
    "### Reset the environment\n",
    "To reset the environment, simply call `env.reset()`. This method takes no argument and returns nothing but will send a signal to the simulation to reset."
   ],
   "metadata": {
    "id": "h1lIx3_l24OP"
   }
  },
  {
   "cell_type": "code",
   "execution_count": 5,
   "source": [
    "env.reset()"
   ],
   "outputs": [],
   "metadata": {
    "id": "dhtl0mpeqxYi"
   }
  },
  {
   "cell_type": "markdown",
   "source": [
    "### Behavior Specs\n"
   ],
   "metadata": {
    "id": "k1rwnVq2qyoO"
   }
  },
  {
   "cell_type": "markdown",
   "source": [
    "#### Get the Behavior Specs from the Environment"
   ],
   "metadata": {
    "id": "TrD0rSv92T8A"
   }
  },
  {
   "cell_type": "code",
   "execution_count": 6,
   "source": [
    "# We will only consider the first Behavior\n",
    "behavior_name = list(env.behavior_specs)[0]\n",
    "print(f\"Name of the behavior : {behavior_name}\")\n",
    "spec = env.behavior_specs[behavior_name]"
   ],
   "outputs": [
    {
     "output_type": "stream",
     "name": "stdout",
     "text": [
      "Name of the behavior : GridWorld?team=0\n"
     ]
    }
   ],
   "metadata": {
    "id": "a7KatdThq7OV"
   }
  },
  {
   "cell_type": "markdown",
   "source": [
    "#### Get the Observation Space from the Behavior Specs"
   ],
   "metadata": {
    "id": "m1L8DHADrAbe"
   }
  },
  {
   "cell_type": "code",
   "execution_count": 7,
   "source": [
    "# Examine the number of observations per Agent\n",
    "print(\"Number of observations : \", len(spec.observation_specs))\n",
    "\n",
    "# Is there a visual observation ?\n",
    "# Visual observation have 3 dimensions: Height, Width and number of channels\n",
    "vis_obs = any(len(spec.shape) == 3 for spec in spec.observation_specs)\n",
    "print(\"Is there a visual observation ?\", vis_obs)"
   ],
   "outputs": [
    {
     "output_type": "stream",
     "name": "stdout",
     "text": [
      "Number of observations :  1\n",
      "Is there a visual observation ? True\n"
     ]
    }
   ],
   "metadata": {
    "id": "PqDTV5mSrJF5"
   }
  },
  {
   "cell_type": "markdown",
   "source": [
    "#### Get the Action Space from the Behavior Specs"
   ],
   "metadata": {
    "id": "yVLN_wbG1G5-"
   }
  },
  {
   "cell_type": "code",
   "execution_count": 8,
   "source": [
    "# Is the Action continuous or multi-discrete ?\n",
    "if spec.action_spec.continuous_size > 0:\n",
    "  print(f\"There are {spec.action_spec.continuous_size} continuous actions\")\n",
    "if spec.action_spec.is_discrete():\n",
    "  print(f\"There are {spec.action_spec.discrete_size} discrete actions\")\n",
    "\n",
    "\n",
    "# How many actions are possible ?\n",
    "#print(f\"There are {spec.action_size} action(s)\")\n",
    "\n",
    "# For discrete actions only : How many different options does each action has ?\n",
    "if spec.action_spec.discrete_size > 0:\n",
    "  for action, branch_size in enumerate(spec.action_spec.discrete_branches):\n",
    "    print(f\"Action number {action} has {branch_size} different options\")\n",
    "\n"
   ],
   "outputs": [
    {
     "output_type": "stream",
     "name": "stdout",
     "text": [
      "There are 1 discrete actions\n",
      "Action number 0 has 5 different options\n"
     ]
    }
   ],
   "metadata": {
    "id": "M9zk1-az1L-G"
   }
  },
  {
   "cell_type": "markdown",
   "source": [
    "### Stepping the environment"
   ],
   "metadata": {
    "id": "3cX07SGw22Lm"
   }
  },
  {
   "cell_type": "markdown",
   "source": [
    "#### Get the steps from the Environment\n",
    "You can do this with the `env.get_steps(behavior_name)` method. If there are multiple behaviors in the Environment, you can call this method with each of the behavior's names.\n",
    "_Note_ This will not move the simulation forward."
   ],
   "metadata": {
    "id": "xO5p0s0prfsQ"
   }
  },
  {
   "cell_type": "code",
   "execution_count": 9,
   "source": [
    "decision_steps, terminal_steps = env.get_steps(behavior_name)"
   ],
   "outputs": [],
   "metadata": {
    "id": "ePZtcHXUrjyf"
   }
  },
  {
   "cell_type": "markdown",
   "source": [
    "#### Set actions for each behavior\n",
    "You can set the actions for the Agents of a Behavior by calling `env.set_actions()` you will need to specify the behavior name and pass a tensor of dimension 2. The first dimension of the action must be equal to the number of Agents that requested a decision during the step."
   ],
   "metadata": {
    "id": "f-Oj3ix530mx"
   }
  },
  {
   "cell_type": "code",
   "execution_count": 10,
   "source": [
    "env.set_actions(behavior_name, spec.action_spec.empty_action(len(decision_steps)))"
   ],
   "outputs": [],
   "metadata": {
    "id": "KB-nxfbw337g"
   }
  },
  {
   "cell_type": "markdown",
   "source": [
    "#### Move the simulation forward\n",
    "Call `env.step()` to move the simulation forward. The simulation will progress until an Agent requestes a decision or terminates."
   ],
   "metadata": {
    "id": "MQCybRs84cmq"
   }
  },
  {
   "cell_type": "code",
   "execution_count": 11,
   "source": [
    "env.step()"
   ],
   "outputs": [],
   "metadata": {
    "id": "nl3K40ZR4bh2"
   }
  },
  {
   "cell_type": "markdown",
   "source": [
    "### Observations"
   ],
   "metadata": {
    "id": "i9gdextn2vJy"
   }
  },
  {
   "cell_type": "markdown",
   "source": [
    "#### Show the observations for one of the Agents\n",
    "`DecisionSteps.obs` is a tuple containing all of the observations for all of the Agents with the provided Behavior name.\n",
    "Each value in the tuple is an observation tensor containing the observation data for all of the agents."
   ],
   "metadata": {
    "id": "iAMqnnddr8Xo"
   }
  },
  {
   "cell_type": "code",
   "execution_count": 12,
   "source": [
    "import matplotlib.pyplot as plt\n",
    "%matplotlib inline\n",
    "\n",
    "for index, obs_spec in enumerate(spec.observation_specs):\n",
    "  if len(obs_spec.shape) == 3:\n",
    "    print(\"Here is the first visual observation\")\n",
    "    plt.imshow(decision_steps.obs[index][0,:,:,:])\n",
    "    plt.show()\n",
    "\n",
    "for index, obs_spec in enumerate(spec.observation_specs):\n",
    "  if len(obs_spec.shape) == 1:\n",
    "    print(\"First vector observations : \", decision_steps.obs[index][0,:])"
   ],
   "outputs": [
    {
     "output_type": "error",
     "ename": "ModuleNotFoundError",
     "evalue": "No module named 'matplotlib'",
     "traceback": [
      "\u001b[0;31m---------------------------------------------------------------------------\u001b[0m",
      "\u001b[0;31mModuleNotFoundError\u001b[0m                       Traceback (most recent call last)",
      "Input \u001b[0;32mIn [12]\u001b[0m, in \u001b[0;36m<cell line: 1>\u001b[0;34m()\u001b[0m\n\u001b[0;32m----> 1\u001b[0m \u001b[38;5;28;01mimport\u001b[39;00m \u001b[38;5;21;01mmatplotlib\u001b[39;00m\u001b[38;5;21;01m.\u001b[39;00m\u001b[38;5;21;01mpyplot\u001b[39;00m \u001b[38;5;28;01mas\u001b[39;00m \u001b[38;5;21;01mplt\u001b[39;00m\n\u001b[1;32m      2\u001b[0m get_ipython()\u001b[38;5;241m.\u001b[39mrun_line_magic(\u001b[38;5;124m'\u001b[39m\u001b[38;5;124mmatplotlib\u001b[39m\u001b[38;5;124m'\u001b[39m, \u001b[38;5;124m'\u001b[39m\u001b[38;5;124minline\u001b[39m\u001b[38;5;124m'\u001b[39m)\n\u001b[1;32m      4\u001b[0m \u001b[38;5;28;01mfor\u001b[39;00m index, obs_spec \u001b[38;5;129;01min\u001b[39;00m \u001b[38;5;28menumerate\u001b[39m(spec\u001b[38;5;241m.\u001b[39mobservation_specs):\n",
      "\u001b[0;31mModuleNotFoundError\u001b[0m: No module named 'matplotlib'"
     ]
    }
   ],
   "metadata": {
    "id": "OJpta61TsBiO"
   }
  },
  {
   "cell_type": "markdown",
   "source": [
    "### Run the Environment for a few episodes"
   ],
   "metadata": {
    "id": "y60u21sys8kA"
   }
  },
  {
   "cell_type": "code",
   "execution_count": null,
   "source": [
    "for episode in range(3):\n",
    "  env.reset()\n",
    "  decision_steps, terminal_steps = env.get_steps(behavior_name)\n",
    "  tracked_agent = -1 # -1 indicates not yet tracking\n",
    "  done = False # For the tracked_agent\n",
    "  episode_rewards = 0 # For the tracked_agent\n",
    "  while not done:\n",
    "    # Track the first agent we see if not tracking\n",
    "    # Note : len(decision_steps) = [number of agents that requested a decision]\n",
    "    if tracked_agent == -1 and len(decision_steps) >= 1:\n",
    "      tracked_agent = decision_steps.agent_id[0]\n",
    "\n",
    "    # Generate an action for all agents\n",
    "    action = spec.action_spec.random_action(len(decision_steps))\n",
    "\n",
    "    # Set the actions\n",
    "    env.set_actions(behavior_name, action)\n",
    "\n",
    "    # Move the simulation forward\n",
    "    env.step()\n",
    "\n",
    "    # Get the new simulation results\n",
    "    decision_steps, terminal_steps = env.get_steps(behavior_name)\n",
    "    if tracked_agent in decision_steps: # The agent requested a decision\n",
    "      episode_rewards += decision_steps[tracked_agent].reward\n",
    "    if tracked_agent in terminal_steps: # The agent terminated its episode\n",
    "      episode_rewards += terminal_steps[tracked_agent].reward\n",
    "      done = True\n",
    "  print(f\"Total rewards for episode {episode} is {episode_rewards}\")\n"
   ],
   "outputs": [],
   "metadata": {
    "id": "a2uQUsoMtIUK"
   }
  },
  {
   "cell_type": "markdown",
   "source": [
    "### Close the Environment to free the port it is using"
   ],
   "metadata": {
    "id": "R-3grXNEtJPa"
   }
  },
  {
   "cell_type": "code",
   "execution_count": null,
   "source": [
    "env.close()\n",
    "print(\"Closed environment\")"
   ],
   "outputs": [],
   "metadata": {
    "id": "vdWG6_SqtNtv"
   }
  }
 ]
}