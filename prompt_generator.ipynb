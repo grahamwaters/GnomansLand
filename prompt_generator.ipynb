{
 "cells": [
  {
   "cell_type": "code",
   "execution_count": 1,
   "metadata": {},
   "outputs": [],
   "source": [
    "def get_oop_code_details():\n",
    "    # Prompt the user for the details needed to generate the OOP code\n",
    "    class_name = input(\"Enter the name of the class: \")\n",
    "    attributes = input(\"Enter a comma-separated list of class attributes: \")\n",
    "    methods = input(\"Enter a comma-separated list of class methods: \")\n",
    "    additional_info = input(\"Enter any additional information about the class: \")\n",
    "    \n",
    "    # Format the details into a paragraph\n",
    "    details = f\"The {class_name} class has the following attributes: {attributes}. It also has the following methods: {methods}. {additional_info}\"\n",
    "    \n",
    "    return details"
   ]
  },
  {
   "cell_type": "code",
   "execution_count": 2,
   "metadata": {},
   "outputs": [
    {
     "name": "stdout",
     "output_type": "stream",
     "text": [
      "The gnome class has the following attributes: health, name, age, is_alive, gender. It also has the following methods: build, move, eat, sleep, wait. The gnomes are designed to act as reinforcement learning agents in the environment. \n"
     ]
    }
   ],
   "source": [
    "details = get_oop_code_details()\n",
    "print(details)"
   ]
  }
 ],
 "metadata": {
  "kernelspec": {
   "display_name": "Python 3.9.15 ('gnomansland')",
   "language": "python",
   "name": "python3"
  },
  "language_info": {
   "codemirror_mode": {
    "name": "ipython",
    "version": 3
   },
   "file_extension": ".py",
   "mimetype": "text/x-python",
   "name": "python",
   "nbconvert_exporter": "python",
   "pygments_lexer": "ipython3",
   "version": "3.9.15"
  },
  "orig_nbformat": 4,
  "vscode": {
   "interpreter": {
    "hash": "613b57c716500b00029baed8e4b4a608464d62941e0b200a5142295acec7ce8a"
   }
  }
 },
 "nbformat": 4,
 "nbformat_minor": 2
}
